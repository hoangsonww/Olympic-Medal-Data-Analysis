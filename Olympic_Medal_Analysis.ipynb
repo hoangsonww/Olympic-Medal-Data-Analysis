{
 "cells": [
  {
   "cell_type": "markdown",
   "id": "a6f30cbc",
   "metadata": {},
   "source": [
    "# Olympic Medal Analysis\n",
    "\n",
    "This Jupyter notebook performs a comprehensive analysis of the all-time Olympic medals dataset, leveraging R in a Jupyter environment.\n",
    "\n",
    "It covers:\n",
    "- Fetching the dataset from GitHub\n",
    "- Aggregating medal counts by NOC\n",
    "- Merging with population & GDP data from the World Bank\n",
    "- Exploratory visualizations\n",
    "- Correlation analysis & heatmap\n",
    "- Regression modeling\n"
   ]
  },
  {
   "cell_type": "code",
   "execution_count": null,
   "id": "481aecdf",
   "metadata": {
    "language": "R"
   },
   "outputs": [],
   "source": [
    "# Install & load necessary R packages\n",
    "if (!requireNamespace(\"tidyverse\", quietly=TRUE)) install.packages(\"tidyverse\")\n",
    "if (!requireNamespace(\"WDI\", quiet=TRUE)) install.packages(\"WDI\")\n",
    "if (!requireNamespace(\"countrycode\", quiet=TRUE)) install.packages(\"countrycode\")\n",
    "if (!requireNamespace(\"maps\", quiet=TRUE)) install.packages(\"maps\")\n",
    "if (!requireNamespace(\"viridis\", quiet=TRUE)) install.packages(\"viridis\")\n",
    "if (!requireNamespace(\"corrplot\", quiet=TRUE)) install.packages(\"corrplot\")\n",
    "\n",
    "library(tidyverse)\n",
    "library(WDI)\n",
    "library(countrycode)\n",
    "library(maps)\n",
    "library(viridis)\n",
    "library(corrplot)\n"
   ]
  },
  {
   "cell_type": "code",
   "execution_count": null,
   "id": "02eb89a0",
   "metadata": {
    "language": "R"
   },
   "outputs": [],
   "source": [
    "# Fetch the TidyTuesday Olympics dataset\n",
    "olympics <- read_csv(\"https://raw.githubusercontent.com/rfordatascience/tidytuesday/master/data/2021/2021-07-27/olympics.csv\")\n",
    "\n",
    "# Aggregate all-time medal counts by NOC\n",
    "medals <- olympics %>%\n",
    "  filter(!is.na(noc)) %>%\n",
    "  group_by(noc) %>%\n",
    "  summarise(\n",
    "    gold   = sum(medal == \"Gold\", na.rm=TRUE),\n",
    "    silver = sum(medal == \"Silver\", na.rm=TRUE),\n",
    "    bronze = sum(medal == \"Bronze\", na.rm=TRUE),\n",
    "    total  = gold + silver + bronze\n",
    "  ) %>%\n",
    "  ungroup()\n",
    "\n",
    "head(medals)"
   ]
  },
  {
   "cell_type": "code",
   "execution_count": null,
   "id": "5d5ce046",
   "metadata": {
    "language": "R"
   },
   "outputs": [],
   "source": [
    "# Fetch 2016 population & GDP per capita\n",
    "wb_ind <- c(pop=\"SP.POP.TOTL\", gdp_pc=\"NY.GDP.PCAP.KD\")\n",
    "wb_data <- WDI(country=unique(medals$noc), indicator=wb_ind, start=2016, end=2016) %>%\n",
    "  select(iso2c, population=pop, gdp_pc) %>%\n",
    "  mutate(noc = countrycode(iso2c, \"iso2c\", \"iso3c\")) %>%\n",
    "  select(noc, population, gdp_pc)\n",
    "\n",
    "# Merge with medals\n",
    "medals <- left_join(medals, wb_data, by=\"noc\")\n",
    "head(medals)"
   ]
  }
 ],
 "metadata": {
  "kernelspec": {
   "display_name": "R",
   "language": "R",
   "name": "ir"
  },
  "language_info": {
   "name": "R"
  }
 },
 "nbformat": 4,
 "nbformat_minor": 5
}
